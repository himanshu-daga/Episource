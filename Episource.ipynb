{
 "cells": [
  {
   "cell_type": "markdown",
   "metadata": {},
   "source": [
    "# Episource- Assignment\n",
    "### By Himanshu Daga\n",
    "Assignment-\n",
    "\n",
    "    Reference File: http://textfiles.com/stories/3gables.txt\n",
    "    Targets:\n",
    "    1. Generate counts of words from the file above\n",
    "    2. Print a list of Top 5 and Bottom 5 words\n",
    "    3. Create a pandas data frame with words and their counts as two columns\n",
    "    4. Remove words with count less than 5\n",
    "    5. Create a new column with conditional - if the length of the word is more than 5 and count more than 10"
   ]
  },
  {
   "cell_type": "markdown",
   "metadata": {},
   "source": [
    "### 1.1 Reading the text-file"
   ]
  },
  {
   "cell_type": "code",
   "execution_count": 291,
   "metadata": {},
   "outputs": [
    {
     "data": {
      "text/plain": [
       "':.:.:.:.:.:.:.:.:.:.:.:.:.:.:.:.:.:.:.:.:.:.:.:.:.:.:.:.:.:.: -----=====earth\\'s dreamlands=====----- (313)558-5024 {14.4} (313)558-5517 a bbs for text file junkies rpgnet gm file archive site .:.:.:.:.:.:.:.:.:.:.:.:.:.:.:.:.:.:.:.:.:.:.:.:.:.:.:.:.:.:.  the adveniure of the three gables  i don\\'t think that any of my adventures with mr. sherlock holmes opened quite so abruptly, or so dramatically, as that which i associate with the three gables. i had not seen holmes for some days and had no idea of the new channel into which his activities had been directed. he was in a chatty mood that morning, however, and had just settled me into the well-worn low armchair on one side of the fire, while he had curled down with his pipe in his mouth upon the opposite chair, when our visitor arrived. if i had said that a mad bull had arrived it would give a clearer impression of what occurred. the door had flown open and a huge negro had burst into the room. he would have been a comic figure if he had not been terrific, for he was dressed in a very loud gray check suit with a flowing salmon-coloured tie. his broad face and flattened nose were thrust forward, as his sullen dark eyes, with a smouldering gleam of malice in them, turned from one of us to the other. \"which of you gen\\'l\\'men is masser holmes?\" he asked. holmes raised his pipe with a languid smile. \"oh! it\\'s you, is it?\" said our visitor, coming with an un- pleasant, stealthy step round the angle of the table. \"see here, masser holmes, you keep your hands out of other folks\\' busi- ness. leave folks to manage their own affairs. got that, masser holmes?\" \"keep on talking,\" said holmes. \"it\\'s fine.\" \"oh! it\\'s fine, is it?\" growled the savage. \"it won\\'t be so damn fine if i have to trim you up a bit. i\\'ve handled your kind before now, and they didn\\'t look fine when i was through with them. look at that, masser holmes!\" he swung a huge knotted lump of a fist under my friend\\'s nose. holmes examined it closely with an air of great interest. \"were you born so?\" he asked. \"or did it come by degrees?\" it may have been the icy coolness of my friend, or it may have been the slight clatter which i made as i picked up the poker. in any case, our visitor\\'s manner became less flamboyant. \"well, i\\'ve given you fair warnin\\',\" said he. \"i\\'ve a friend that\\'s interested out harrow way -- you know what i\\'m meaning -- and he don\\'t intend to have no buttin\\' in by you. got that? you ain\\'t the law, and i ain\\'t the law either, and if you come in i\\'ll be on hand also. don\\'t you forget it.\" \"i\\'ve wanted to meet you for some time,\" said holmes. \"i won\\'t ask you to sit down, for i don\\'t like the smell of you, but aren\\'t you steve dixie, the bruiser?\" \"that\\'s my name, masser holmes, and you\\'ll get put through it for sure if you give me any lip.\" \"it is certainly the last thing you need,\" said holmes, staring at our visitor\\'s hideous mouth. \"but it was the killing of young perkins outside the holborn -- bar what! you\\'re not going?\" the negro had sprung back, and his face was leaden. \"i won\\'t listen to no such talk,\" said he. \"what have i to do with this \\'ere perkins, masser holmes? i was trainin\\' at the bull ring in birmingham when this boy done gone get into trouble.\" \"yes, you\\'ll tell the magistrate about it, steve,\" said holmes. \"i\\'ve been watching you and barney stockdale --\" \"so help me the lord! masser holmes --\" \"that\\'s enough. get out of it. i\\'ll pick you up when i want you.\" \"good-mornin\\', masser holmes. i hope there ain\\'t no hard feelin\\'s about this \\'ere visit?\" \"there will be unless you tell me who sent you.\" \"why, there ain\\'t no secret about that, masser holmes. it was that same gen\\'l\\'man that you have just done gone mention.\" \"and who set him on to it?\" \"s\\'elp me. i don\\'t know, masser holmes. he just say, \\'steve, you go see mr. holmes, and tell him his life ain\\'t safe if he go down harrow way.\\' that\\'s the whole truth.\" without waiting for any further questioning, our visitor bolted out of the room almost as precipitately as he had entered. holmes knocked out the ashes of his pipe with a quiet chuckle. \"i am glad you were not forced to break his woolly head, watson. i observed your manoeuvres with the poker. but he is really rather a harmless fellow, a great muscular, foolish, blus- tering baby, and easily cowed, as you have seen. he is one of the spencer john gang and has taken part in some dirty work of late which i may clear up when i have time. his immediate principal, barney, is a more astute person. they specialize in assaults, intimidation, and the like. what i want to know is, who is at the back of them on this panicular occasion?\" \"but why do they want to intimidate you?\" \"it is this harrow weald case. it decides me to look into the matter, for if it is worth anyone\\'s while to take so much trouble, there must be something in it.\" \"but what is it?\" \"i was going to tell you when we had this comic interlude. here is mrs. maberley\\'s note. if you care to come with me we will wire her and go out at once.\"  dear mr. sherlock holmes [i read]: i have had a succession of strange incidents occur to me in connection with this house, and i should much value your advice. you would find me at home any time to-morrow. the house is within a short walk of the weald station. i believe that my late husband, mortimer maberley, was one of your early clients. yours faithfully, mary maberley.  the address was \"the three gables, harrow weald.\" \"so that\\'s that!\" said holmes. \"and now, if you can spare the time, watson, we will get upon our way.\" a short railway journey, and a shorter drive, brought us to the house, a brick and timber villa, standing in its own acre of undeveloped grassland. three small projections above. the upper windows made a feeble attempt to justify its name. behind was a grove of melancholy, half-grown pines, and the whole aspect of the place was poor and depressing. none the less, we found the house to be well furnished, and the lady who received us was a most engaging elderly person, who bore every mark of refine- ment and culture. \"i remember your husband well, madam,\" said holmes, \"though it is some years since he used my services in some trifling matter.\" \"probably you would be more familiar with the name of my son douglas.\" holmes looked at her with great interest. \"dear me! are you the mother of douglas maberley? i knew him slightly. but of course all london knew him. what a magnificent creature he was! where is he now?\" \"dead, mr. holmes, dead! he was attache at rome, and he died there of pneumonia last month.\" \"i am sorry. one could not connect death with such a man. i have never known anyone so vitally alive. he lived intensely -- every fibre of him!\" \"too intensely, mr. holmes. that was the ruin of him. you remember him as he was -- debonair and splendid. you did not see the moody, morose, brooding creature into which he devel- oped. his heart was broken. in a single month i seemed to see my gallant boy turn into a worn-out cynical man.\" \"a love affair -- a woman?\" \"or a fiend. well, it was not to talk of my poor lad that i asked you to come, mr. holmes.\" \"dr. watson and i are at your service.\" \"there have been some very strange happenings. i have been in this house more than a year now, and as i wished to lead a retired life i have seen little of my neighbours. three days ago i had a call from a man who said that he was a house agent. he said that this house would exactly suit a client of his, and that if i would part with it money would be no object. it seemed to me very strange as there are several empty houses on the market which appear to be equally eligible, but naturally i was interested in what he said. i therefore named a price which was five hundred pounds more than i gave. he at once closed with the offer, but added that his client desired to buy the furniture as well and would i put a price upon it. some of this furniture is from my old home, and it is, as you see, very good, so that i named a good round sum. to this also he at once agreed. i had always wanted to travel, and the bargain was so good a one that it really seemed that i should be my own mistress for the rest of my life. \"yesterday the man arrived with the agreement all drawn out. luckily i showed it to mr. sutro, my lawyer, who lives in harrow. he said to me, \\'this is a very strange document. are you aware that if you sign it you could not legally take anything out of the house -- not even your own private possessions?\\' when the man came again in the evening i pointed this out, and i said that i meant only to sell the furniture. \" \\'no, no, everything,\\' said he. \" \\'but my clothes? my jewels?\\' \" \\'well, well, some concession might be made for your per- sonal effects. but nothing shall go out of the house unchecked. my client is a very liberal man, but he has his fads and his own way of doing things. it is everything or nothing with him.\\' \" \\'then it must be nothing,\\' said i. and there the matter was left, but the whole thing seemed to me to be so unusual that i thought --\" here we had a very extraordinary interruption. holmes raised his hand for silence. then he strode across the room, flung open the door, and dragged in a great gaunt woman whom he had seized by the shoulder. she entered with ungainly struggle like some huge awkward chicken, torn, squawking, out of its coop. \"leave me alone! what are you a-doin\\' of?\" she screeched. \"why, susan, what is this?\" \"well, ma\\'am, i was comin\\' in to ask if the visitors was stayin\\' for lunch when this man jumped out at me.\" \"i have been listening to her for the last five minutes, but did not wish to interrupt your most interesting narrative. just a little wheezy, susan, are you not? you breathe too heavily for that kind of work.\" susan turned a sulky but amazed face upon her captor. \"who be you, anyhow, and what right have you a-pullin\\' me about like this?\" \"it was merely that i wished to ask a question in your presence. did you, mrs. maberley, mention to anyone that you were going to write to me and consult me?\" \"no, mr. holmes, i did not.\" \"who posted your letter?\" \"susan did.\" \"exactly. now, susan, to whom was it that you wrote or sent a message to say that your mistress was asking advice from me?\" \"it\\'s a lie. i sent no message.\" \"now, susan, wheezy people may not live long, you know. it\\'s a wicked thing to tell fibs. whom did you tell?\" \"susan!\" cried her mistress, \"i believe you are a bad, treach- erous woman. i remember now that i saw you speaking to someone over the hedge.\" \"that was my own business,\" said the woman sullenly. \"suppose i tell you that it was barney stockdale to whom you spoke?\" said holmes. \"well, if you know, what do you want to ask for?\" \"i was not sure, but i know now. well now, susan, it will be worth ten pounds to you if you will tell me who is at the back of barney.\" \"someone that could lay down a thousand pounds for every ten you have in the world.\" \"so, a rich man? no; you smiled -- a rich woman. now we have got so far, you may as well give the name and earn the tenner.\" \"i\\'ll see you in hell first.\" \"oh, susan! language!\" \"i am clearing out of here. i\\'ve had enough of you all. i\\'ll send for my box to-morrow.\" she flounced for the door. \"good-bye, susan. paregoric is the stuff.... now,\" he continued, turning suddenly from lively to severe when the door had closed behind the flushed and angry woman, \"this gang means business. look how close they play the game. your letter to me had the 10 p.m. postmark. and yet susan passes the word to barney. barney has time to go to his employer and get instructions; he or she -- i incline to the latter from susan\\'s grin when she thought i had blundered -- forms a plan. black steve is called in, and i am warned off by eleven o\\'clock next morning. that\\'s quick work, you know.\" \"but what do they want?\" \"yes, that\\'s the question. who had the house before you?\" \"a retired sea captain called ferguson.\" \"anything remarkable about him?\" \"not that ever i heard of.\" \"i was wondering whether he could have buried something. of course, when people bury treasure nowadays they do it in the post-office bank. but there are always some lunatics about. it would be a dull world without them. at first i thought of some buried valuable. but why, in that case, should they want your furniture? you don\\'t happen to have a raphael or a first folio shakespeare without knowing it?\" \"no, i don\\'t think i have anything rarer than a crown derby tea-set.\" \"that would hardly justify all this mystery. besides, why should they not openly state what they want? if they covet your tea-set, they can surely offer a price for it without buying you out, lock, stock, and barrel. no, as i read it, there is something which you do not know that you have, and which you would not give up if you did know.\" \"that is how i read it,\" said i. \"dr. watson agrees, so that settles it.\" \"well, mr. holmes, what can it be?\" \"let us see whether by this purely mental analysis we can get it to a finer point. you have been in this house a year.\" \"nearly two.\" \"all the better. during this long period no one wants anything from you. now suddenly within three or four days you have urgent demands. what would you gather from that?\" \"it can only mean,\" said i, \"that the object, whatever it may be, has only just come into the house.\" \"settled once again,\" said holmes. \"now, mrs. maberley has any object just arrived?\" \"no, i have bought nothing new this year.\" \"indeed! that is very remarkable. well, i think we had best let matters develop a little further until we have clearer data. is that lawyer of yours a capable man?\" \"mr. sutro is most capable.\" \"have you another maid, or was the fair susan, who has just banged your front door alone?\" \"i have a young girl.\" \"try and get sutro to spend a night or two in the house. you might possibly want protection.\" \"against whom?\" \"who knows? the matter is certainly obscure. if i can\\'t find what they are after, i must approach the matter from the other end and try to get at the principal. did this house-agent man give any address?\" \"simply his card and occupation. haines-johnson, auctioneer and valuer.\" \"i don\\'t think we shall find him in the directory. honest business men don\\'t conceal their place of business. well, you will let me know any fresh development. i have taken up your case, and you may rely upon it that i shall see it through.\" as we passed through the hall holmes\\'s eyes, which missed nothing, lighted upon several trunks and cases which were piled in a corner. the labels shone out upon them. \" \\'milano.\\' \\'lucerne.\\' these are from italy.\" \"they are poor douglas\\'s things.\" \"you have not unpacked them? how long have you had them?\" \"they arrived last week.\" \"but you said -- why, surely this might be the missing link. how do we know that there is not something of value there?\" \"there could not possibly be, mr. holmes. poor douglas had only his pay and a small annuity. what could he have of value?\" holmes was lost in thought. \"delay no longer, mrs. maberley,\" he said at last. \"have these things taken upstairs to your bedroom. examine them as soon as possible and see what they cohtain. i will come to- morrow and hear your report.\" it was quite evident that the three gables was under very close surveillance, for as we came round the high hedge at the end of the lane there was the negro prize-fighter standing in the shadow. we came on him quite suddenly, and a grim and menacing figure he looked in that lonely place. holmes clapped his hand to his pocket. \"lookin\\' for your gun, masser holmes?\" \"no, for my scent-bottle, steve.\" \"you are funny, masser holmes, ain\\'t you?\" \"it won\\'t be funny for you, steve, if i get after you. i gave you fair warning this morning.\" \"well, masser holmes, i done gone think over what you said, and i don\\'t want no more talk about that affair of masser perkins. s\\'pose i can help you, masser holmes, i will.\" \"well, then, tell me who is behind you on this job.\" \"so help me the lord! masser holmes, i told you the truth before. i don\\'t know. my boss barney gives me orders and that\\'s all.\" \"well, just bear in mind, steve, that the lady in that house, and everything under that roof, is under my protection. don\\'t forget it.\" \"all right, masser holmes. i\\'ll remember.\" \"i\\'ve got him thoroughly frightened for his own skin, wat- son,\" holmes remarked as we walked on. \"i think he would double-cross his employer if he knew who he was. it was lucky i had some knowledge of the spencer john crowd, and that steve was one of them. now, watson, this is a case for langdale pike, and i am going to see him now. when i get back i may be clearer in the matter.\" i saw no more of holmes during the day, but i could well imagine how he spent it, for langdale pike was his human book of reference upon all matters of social scandal. this strange, languid creature spent his waking hours in the bow window of a st. james\\'s street club and was the receiving- station as well as the transmitter for all the gossip of the metropolis. he made, it was said, a four-figure income by the paragraphs which he contributed every week to the gar- bage papers which cater to an inquisitive public. if ever, far down in the turbid depths of london life, there was some strange swirl or eddy, it was marked with automatic exact- ness by this human dial upon the surface. holmes discreetly helped langdale to knowledge, and on occasion was helped in turn. when i met my friend in his room early next morning, i was conscious from his bearing that all was well, but none the less a most unpleasant surprise was awaiting us. it took the shape of the following telegram.  please come out at once. client\\'s house burgled in the night. police in possession. sutro. holmes whistled. \"the drama has come to a crisis, and quicker than i had expected. there is a great driving-power at the back of this business, watson, which does not surprise me after what i have heard. this sutro, of course, is her lawyer. i made a mistake, i fear, in not asking you to spend the night on guard. this fellow has clearly proved a broken reed. well, there is nothing for it but another journey to harrow weald.\" we found the three gables a very different establishment to the orderly household of the previous day. a small group of idlers had assembled at the garden gate, while a couple of constables were examining the windows and the geranium beds. within we met a gray old gentleman, who introduced himself as the lawyer together with a bustling, rubicund inspector, who greeted hoimes as an old friend. \"well, mr. holmes, no chance for you in this case, i\\'m afraid. just a common, ordinary burglary, and well within the capacity of the poor old police. no experts need apply.\" \"i am sure the case is in very good hands,\" said holmes. \"merely a common burglary, you say?\" \"quite so. we know pretty well who the men are and where to find them. it is that gang of barney stockdale, with the big nigger in it -- they\\'ve been seen about here.\" \"excellent! what did they get?\" \"well, they don\\'t seem to have got much. mrs. maberley was chloroformed and the house was -- ah! here is the lady herself.\" our friend of yesterday, looking very pale and ill, had entered the room, leaning upon a little maidservant. \"you gave me good advice, mr. holmes,\" said she, smiling ruefully. \"alas, i did not take it! i did not wish to trouble mr. sutro, and so i was unprotected.\" \"i only heard of it this morning,\" the lawyer explained. \"mr. holmes advised me to have some friend in the house. i neglected his advice, and i have paid for it.\" \"you look wretchedly ill,\" said holmes. \"perhaps you are hardly equal to telling me what occurred.\" \"it is all here,\" said the inspector, tapping a bulky notebook. \"still, if the lady is not too exhausted --\" \"there is really so little to tell. i have no doubt that wicked susan had planned an entrance for them. they must have known the house to an inch. i was conscious for a moment of the chloroform rag which was thrust over my mouth, but i have no notion how long i may have been senseless. when i woke, one man was at the bedside and another was rising with a bundle in his hand from among my son\\'s baggage, which was partially opened and littered over the floor. before he could get away i sprang up and seized him.\" \"you took a big risk,\" said the inspector. \"i clung to him, but he shook me off, and the other may have struck me, for i can remember no more. mary the maid heard the noise and began screaming out of the window. that brought the police, but the rascals had got away.\" \"what did they take?\" \"well, i don\\'t think there is anything of value missing. i am sure there was nothing in my son\\'s trunks.\" \"did the men leave no clue?\" \"there was one sheet of paper which i may have torn from the man that i grasped. it was lying all crumpled on the floor. it is in my son\\'s handwriting.\" \"which means that it is not of much use,\" said the inspector. \"now if it had been in the burglar\\'s --\" \"exactly,\" said holmes. \"what rugged common sense! none the less, i should be curious to see it.\" the inspector drew a folded sheet of foolscap from his pocketbook. \"i never pass anything, however trifling,\" said he with some pomposity. \"that is my advice to you, mr. holmes. in twenty- five years\\' experience i have learned my lesson. there is always the chance of finger-marks or something.\" holmes inspected the sheet of paper. \"what do you make of it, inspector?\" \"seems to be the end of some queer novel, so far as i can see.\" \"it may certainly prove to be the end of a queer tale,\" said holmes. \"you have noticed the number on the top of the page. it is two hundred and forty-five. where are the odd two hundred and forty-four pages?\" \"well, i suppose the burglars got those. much good may it do them!\" \"it seems a queer thing to break into a house in order to steal such papers as that. does it suggest anything to you, inspector?\" \"yes, sir, it suggests that in their hurry the rascals just grabbed at what came first to hand. i wish them joy of what they got.\" \"why should they go to my son\\'s things?\" asked mrs. maberley. \"well, they found nothing valuable downstairs, so they tried their luck upstairs. that is how i read it. what do you make of it, mr. holmes?\" \"i must think it over, inspector. come to the window, wat- son.\" then, as we stood together, he read over the fragment of paper. it began in the middle of a sentence and ran like this:  \". . . face bled considerably from the cuts and blows, but it was nothing to the bleeding of his heart as he saw that lovely face, the face for which he had been prepared to sacrifice his very life, looking out at his agony and humilia- tion. she smiled -- yes, by heaven! she smiled, like the heartless fiend she was, as he looked up at her. it was at that moment that love died and hate was born. man must live for something. if it is not for your embrace, my lady, then it shall surely be for your undoing and my complete revenge.\"  \"queer grammar!\" said holmes with a smile as he handed the paper back to the inspector. \"did you notice how the \\'he\\' suddenly changed to \\'my\\'? the writer was so carried away by his own story that he imagined himself at the supreme moment to be the hero.\" \"it seemed mighty poor stuff,\" said the inspector as he re- placed it in his book. \"what! are you off, mr. holmes?\" \"i don\\'t think there is anything more for me to do now that the case is in such capable hands. by the way, mrs. maberley, did you say you wished to travel?\" \"it has always been my dream, mr. holmes.\" \"where would you like to go -- cairo, madeira, the riviera?\" \"oh if i had the money i would go round the world.\" \"quite so. round the world. well, good-morning. i may drop you a line in the evening.\" as we passed the window i caught a glimpse of the inspector\\'s smile and shake of the head. \"these clever fellows have always a touch of madness.\" that was what i read in the inspector\\'s smile. \"now, watson, we are at the last lap of our little journey,\" said holmes when we were back in the roar of central london once more. \"i think we had best clear the matter up at once, and it would be well that you should come with me, for it is safer to have a witness when you are dealing with such a lady as isadora klein.\" we had taken a cab and were speeding to some address in grosvenor square. holmes had been sunk in thought, but he roused himself suddenly. \"by the way, watson, i suppose you see it all clearly?\" \"no, i can\\'t say that i do. i only gather that we are going to see the lady who is behind all this mischief.\" \"exactly! but does the name isadora klein convey nothing to you? she was, of course, the celebrated beauty. there was never a woman to touch her. she is pure spanish, the real blood of the masterfui conquistadors, and her people have been leaders in pernambuco for generations. she married the aged german sugar king, klein, and presently found herself the richest as well as the most lovely widow upon earth. then there was an interval of adventure when she pleased her own tastes. she had several lovers, and douglas maberley, one of the most striking men in london, was one of them. it was by all accounts more than an adventure with him. he was not a society butterfly but a strong, proud man who gave and expected all. but she is the \\'belle dame sans merci\\' of fiction. when her caprice is satisfied the matter is ended, and if the other party in the matter can\\'t take her word for it she knows how to bring it home to him.\" \"then that was his own story --\" \"ah! you are piecing it together now. i hear that she is about to marry the young duke of lomond, who might almost be her son. his grace\\'s ma might overlook the age, but a big scandal would be a different matter, so it is imperative -- ah! here we are.\" it was one of the finest corner-houses of the west end. a machine-like footman took up our cards and returned with word that the lady was not at home. \"then we shall wait until she is,\" said holmes cheerfully. the machine broke down. \"not at home means not at home to you,\" said the footman. \"good,\" holmes answered. \"that means that we shall not have to wait. kindly give this note to your mistress.\" he scribbled three or four words upon a sheet of his notebook, folded it, and handed it to the man. \"what did you say, holmes?\" i asked. \"i simply wrote: \\'shall it be the police, then?\\' i think that should pass us in.\" it did -- with amazing celerity. a minute later we were in an arabian nights drawing-room, vast and wonderful, in a half gloom, picked out with an occasional pink electric light. the lady had come, i felt, to that time of life when even the proudest beauty finds the half light more welcome. she rose from a settee as we entered: tall, queenly, a perfect figure, a lovely mask-like face, with two wonderful spanish eyes which looked murder at us both. \"what is this intrusion -- and this insulting message?\" she asked, holding up the slip of paper. \"i need not explain, madame. i have too much respect for your intelligence to do so -- though i confess that intelligence has been surprisingly at fault of late.\" \"how so, sir?\" \"by supposing that your hired bullies could frighten me from my work. surely no man would take up my profession if it were not that danger attracts him. it was you, then, who forced me to examine the case of young maberley.\" \"i have no idea what you are talking about. what have i to do with hired bullies?\" holmes turned away wearily. \"yes, i have underrated your intelligence. well, good-after- noon!\" \"stop! where are you going?\" \"to scotland yard.\" we had not got halfway to the door before she had overtaken us and was holding his arm. she had turned in a moment from steel to velvet. \"come and sit down, gentlemen. let us talk this matter over. i feel that i may be frank with you, mr. holmes. you have the feelings of a gentleman. how quick a woman\\'s instinct is to find it out. i will treat you as a friend.\" \"i cannot promise to reciprocate, madame. i am not the law, but i represent justice so far as my feeble powers go. i am ready to listen, and then i will tell you how i will act.\" \"no doubt it was foolish of me to threaten a brave man like yourself.\" \"what was really foolish, madame, is that you have placed yourself in the power of a band of rascals who may blackmail or give you away.\" \"no, no! i am not so simple. since i have promised to be frank, i may say that no one, save barney stockdale and susan, his wife, have the least idea who their employer is. as to them, well, it is not the first --\" she smiled and nodded with a charming coquettish intimacy. \"l see. you\\'ve tested them before.\" \"they are good hounds who run silent.\" \"such hounds have a way sooner or later of biting the hand that feeds them. they will be arrested for this burglary. the police are already after them.\" \"they will take what comes to them. that is what they are paid for. i shall not appear in the matter.\" \"unless i bring you into it.\" \"no, no, you would not. you are a gentleman. it is a wom- an\\'s secret.\" \"in the first place, you must give back this manuscript.\" she broke into a ripple of laughter and walked to the fireplace. there was a calcined mass which she broke up with the poker. \"shall i give this back?\" she asked. so roguish and exquisite did she look as she stood before us with a challenging smile that i felt of all holmes\\'s criminals this was the one whom he would find it hardest to face. however, he was immune from sentiment. \"that seals your fate,\" he said coldly. \"you are very prompt in your actions, madame, but you have overdone it on this occasion.\" she threw the poker down with a clatter. \"how hard you are!\" she cried. \"may i tell you the whole story?\" \"i fancy i could tell it to you.\" \"but you must look at it with my eyes, mr. holmes. you must realize it from the point of view of a woman who sees all her life\\'s ambition about to be ruined at the last moment. is such a woman to be blamed if she protects herself?\" \"the original sin was yours.\" \"yes, yes! i admit it. he was a dear boy, douglas, but it so chanced that he could not fit into my plans. he wanted marriage -- marriage, mr. holmes -- with a penniless commoner. nothing less would serve him. then he became pertinacious. because i had given he seemed to think that i still must give, and to him only. it was intolerable. at last i had to make him realize it.\" \"by hiring ruffians to beat him under your own window.\" \"you do indeed seem to know everything. well, it is true. barney and the boys drove him away, and were, i admit, a little rough in doing so. but what did he do then? could i have believed that a gentleman would do such an act? he wrote a book in which he described his own story. i, of course, was the wolf; he the lamb. it was all there, under different names, of course; but who in all london would have failed to recognize it? what do you say to that, mr. holmes?\" \"well, he was within his rights.\" \"it was as if the air of italy had got into his blood and brought with it the old cruel italian spirit. he wrote to me and sent me a copy of his book that i might have the torture of anticipation. there were two copies, he said -- one for me, one for his publisher.\" \"how did you know the publisher\\'s had not reached him?\" \"i knew who his publisher was. it is not his only novel, you know. i found out that he had not heard from italy. then came douglas\\'s sudden death. so long as that other manuscript was in the world there was no safety for me. of course, it must be among his effects, and these would be returned to his mother. i set the gang at work. one of them got into the house as servant. i wanted to do the thing honestly. i really and truly did. i was ready to buy the house and everything in it. i offered any price she cared to ask. i only tried the other way when everything else had failed. now, mr. holmes, granting that i was too hard on douglas -- and, god knows, i am sorry for it! -- what else could i do with my whole future at stake?\" sherlock holmes shrugged his shoulders. \"well, well,\" said he, \"i suppose i shall have to compound a felony as usual. how much does it cost to go round the world in first-class style?\" the lady stared in amazement. \"could it be done on five thousand pounds?\" \"well, i should think so, indeed!\" \"very good. i think you will sign me a check for that, and i will see that it comes to mrs. maberley. you owe her a little change of air. meantime, lady\" -- he wagged a cautionary forefinger -- \"have a care! have a care! you can\\'t play with edged tools forever without cutting those dainty hands.\" \\x1a '"
      ]
     },
     "execution_count": 291,
     "metadata": {},
     "output_type": "execute_result"
    }
   ],
   "source": [
    "# Get the text file as a string.\n",
    "import urllib.request, urllib.parse, urllib.error\n",
    "import pandas as pd\n",
    "import re\n",
    "import string\n",
    "\n",
    "url='http://textfiles.com/stories/3gables.txt'\n",
    "fhand = urllib.request.urlopen(url)\n",
    "\n",
    "data=''\n",
    "for line in fhand:\n",
    "    data += line.decode().strip()+ ' '\n",
    "# Convert the file to all lower case\n",
    "data=data.lower() \n",
    "data"
   ]
  },
  {
   "cell_type": "code",
   "execution_count": 258,
   "metadata": {},
   "outputs": [
    {
     "data": {
      "text/plain": [
       "':.:.:.:.:.:.:.:.:.:.:.:.:.:.:.:.:.:.:.:.:.:.:.:.:.:.:.:.:.:.: -----=====earth\\'s dreamlands=====----- (313)558-5024 {14.4} (313)558-5517 a bbs for text file junkies rpgnet gm file archive site .:.:.:.:.:.:.:.:.:.:.:.:.:.:.:.:.:.:.:.:.:.:.:.:.:.:.:.:.:.:.  the adveniure of the three gables  i don\\'t think that any of my adventures with mr. sherlock holmes opened quite so abruptly, or so dramatically, as that which i associate with the three gables. i had not seen holmes for some days and had no idea of the new channel into which his activities had been directed. he was in a chatty mood that morning, however, and had just settled me into the well-worn low armchair on one side of the fire, while he had curled down with his pipe in his mouth upon the opposite chair, when our visitor arrived. if i had said that a mad bull had arrived it would give a clearer impression of what occurred. the door had flown open and a huge negro had burst into the room. he would have been a comic figure if he had not been terrific, for he was dressed in a very loud gray check suit with a flowing salmon-coloured tie. his broad face and flattened nose were thrust forward, as his sullen dark eyes, with a smouldering gleam of malice in them, turned from one of us to the other. \"which of you gen\\'l\\'men is masser holmes?\" he asked. holmes raised his pipe with a languid smile. \"oh! it\\'s you, is it?\" said our visitor, coming with an un- pleasant, stealthy step round the angle of the table. \"see here, masser holmes, you keep your hands out of other folks\\' busi- ness. leave folks to manage their own affairs. got that, masser holmes?\" \"keep on talking,\" said holmes. \"it\\'s fine.\" \"oh! it\\'s fine, is it?\" growled the savage. \"it won\\'t be so damn fine if i have to trim you up a bit. i\\'ve handled your kind before now, and they didn\\'t look fine when i was through with them. look at that, masser holmes!\" he swung a huge knotted lump of a fist under my friend\\'s nose. holmes examined it closely with an air of great interest. \"were you born so?\" he asked. \"or did it come by degrees?\" it may have been the icy coolness of my friend, or it may have been the slight clatter which i made as i picked up the poker. in any case, our visitor\\'s manner became less flamboyant. \"well, i\\'ve given you fair warnin\\',\" said he. \"i\\'ve a friend that\\'s interested out harrow way -- you know what i\\'m meaning -- and he don\\'t intend to have no buttin\\' in by you. got that? you ain\\'t the law, and i ain\\'t the law either, and if you come in i\\'ll be on hand also. don\\'t you forget it.\" \"i\\'ve wanted to meet you for some time,\" said holmes. \"i won\\'t ask you to sit down, for i don\\'t like the smell of you, but aren\\'t you steve dixie, the bruiser?\" \"that\\'s my name, masser holmes, and you\\'ll get put through it for sure if you give me any lip.\" \"it is certainly the last thing you need,\" said holmes, staring at our visitor\\'s hideous mouth. \"but it was the killing of young perkins outside the holborn -- bar what! you\\'re not going?\" the negro had sprung back, and his face was leaden. \"i won\\'t listen to no such talk,\" said he. \"what have i to do with this \\'ere perkins, masser holmes? i was trainin\\' at the bull ring in birmingham when this boy done gone get into trouble.\" \"yes, you\\'ll tell the magistrate about it, steve,\" said holmes. \"i\\'ve been watching you and barney stockdale --\" \"so help me the lord! masser holmes --\" \"that\\'s enough. get out of it. i\\'ll pick you up when i want you.\" \"good-mornin\\', masser holmes. i hope there ain\\'t no hard feelin\\'s about this \\'ere visit?\" \"there will be unless you tell me who sent you.\" \"why, there ain\\'t no secret about that, masser holmes. it was that same gen\\'l\\'man that you have just done gone mention.\" \"and who set him on to it?\" \"s\\'elp me. i don\\'t know, masser holmes. he just say, \\'steve, you go see mr. holmes, and tell him his life ain\\'t safe if he go down harrow way.\\' that\\'s the whole truth.\" without waiting for any further questioning, our visitor bolted out of the room almost as precipitately as he had entered. holmes knocked out the ashes of his pipe with a quiet chuckle. \"i am glad you were not forced to break his woolly head, watson. i observed your manoeuvres with the poker. but he is really rather a harmless fellow, a great muscular, foolish, blus- tering baby, and easily cowed, as you have seen. he is one of the spencer john gang and has taken part in some dirty work of late which i may clear up when i have time. his immediate principal, barney, is a more astute person. they specialize in assaults, intimidation, and the like. what i want to know is, who is at the back of them on this panicular occasion?\" \"but why do they want to intimidate you?\" \"it is this harrow weald case. it decides me to look into the matter, for if it is worth anyone\\'s while to take so much trouble, there must be something in it.\" \"but what is it?\" \"i was going to tell you when we had this comic interlude. here is mrs. maberley\\'s note. if you care to come with me we will wire her and go out at once.\"  dear mr. sherlock holmes [i read]: i have had a succession of strange incidents occur to me in connection with this house, and i should much value your advice. you would find me at home any time to-morrow. the house is within a short walk of the weald station. i believe that my late husband, mortimer maberley, was one of your early clients. yours faithfully, mary maberley.  the address was \"the three gables, harrow weald.\" \"so that\\'s that!\" said holmes. \"and now, if you can spare the time, watson, we will get upon our way.\" a short railway journey, and a shorter drive, brought us to the house, a brick and timber villa, standing in its own acre of undeveloped grassland. three small projections above. the upper windows made a feeble attempt to justify its name. behind was a grove of melancholy, half-grown pines, and the whole aspect of the place was poor and depressing. none the less, we found the house to be well furnished, and the lady who received us was a most engaging elderly person, who bore every mark of refine- ment and culture. \"i remember your husband well, madam,\" said holmes, \"though it is some years since he used my services in some trifling matter.\" \"probably you would be more familiar with the name of my son douglas.\" holmes looked at her with great interest. \"dear me! are you the mother of douglas maberley? i knew him slightly. but of course all london knew him. what a magnificent creature he was! where is he now?\" \"dead, mr. holmes, dead! he was attache at rome, and he died there of pneumonia last month.\" \"i am sorry. one could not connect death with such a man. i have never known anyone so vitally alive. he lived intensely -- every fibre of him!\" \"too intensely, mr. holmes. that was the ruin of him. you remember him as he was -- debonair and splendid. you did not see the moody, morose, brooding creature into which he devel- oped. his heart was broken. in a single month i seemed to see my gallant boy turn into a worn-out cynical man.\" \"a love affair -- a woman?\" \"or a fiend. well, it was not to talk of my poor lad that i asked you to come, mr. holmes.\" \"dr. watson and i are at your service.\" \"there have been some very strange happenings. i have been in this house more than a year now, and as i wished to lead a retired life i have seen little of my neighbours. three days ago i had a call from a man who said that he was a house agent. he said that this house would exactly suit a client of his, and that if i would part with it money would be no object. it seemed to me very strange as there are several empty houses on the market which appear to be equally eligible, but naturally i was interested in what he said. i therefore named a price which was five hundred pounds more than i gave. he at once closed with the offer, but added that his client desired to buy the furniture as well and would i put a price upon it. some of this furniture is from my old home, and it is, as you see, very good, so that i named a good round sum. to this also he at once agreed. i had always wanted to travel, and the bargain was so good a one that it really seemed that i should be my own mistress for the rest of my life. \"yesterday the man arrived with the agreement all drawn out. luckily i showed it to mr. sutro, my lawyer, who lives in harrow. he said to me, \\'this is a very strange document. are you aware that if you sign it you could not legally take anything out of the house -- not even your own private possessions?\\' when the man came again in the evening i pointed this out, and i said that i meant only to sell the furniture. \" \\'no, no, everything,\\' said he. \" \\'but my clothes? my jewels?\\' \" \\'well, well, some concession might be made for your per- sonal effects. but nothing shall go out of the house unchecked. my client is a very liberal man, but he has his fads and his own way of doing things. it is everything or nothing with him.\\' \" \\'then it must be nothing,\\' said i. and there the matter was left, but the whole thing seemed to me to be so unusual that i thought --\" here we had a very extraordinary interruption. holmes raised his hand for silence. then he strode across the room, flung open the door, and dragged in a great gaunt woman whom he had seized by the shoulder. she entered with ungainly struggle like some huge awkward chicken, torn, squawking, out of its coop. \"leave me alone! what are you a-doin\\' of?\" she screeched. \"why, susan, what is this?\" \"well, ma\\'am, i was comin\\' in to ask if the visitors was stayin\\' for lunch when this man jumped out at me.\" \"i have been listening to her for the last five minutes, but did not wish to interrupt your most interesting narrative. just a little wheezy, susan, are you not? you breathe too heavily for that kind of work.\" susan turned a sulky but amazed face upon her captor. \"who be you, anyhow, and what right have you a-pullin\\' me about like this?\" \"it was merely that i wished to ask a question in your presence. did you, mrs. maberley, mention to anyone that you were going to write to me and consult me?\" \"no, mr. holmes, i did not.\" \"who posted your letter?\" \"susan did.\" \"exactly. now, susan, to whom was it that you wrote or sent a message to say that your mistress was asking advice from me?\" \"it\\'s a lie. i sent no message.\" \"now, susan, wheezy people may not live long, you know. it\\'s a wicked thing to tell fibs. whom did you tell?\" \"susan!\" cried her mistress, \"i believe you are a bad, treach- erous woman. i remember now that i saw you speaking to someone over the hedge.\" \"that was my own business,\" said the woman sullenly. \"suppose i tell you that it was barney stockdale to whom you spoke?\" said holmes. \"well, if you know, what do you want to ask for?\" \"i was not sure, but i know now. well now, susan, it will be worth ten pounds to you if you will tell me who is at the back of barney.\" \"someone that could lay down a thousand pounds for every ten you have in the world.\" \"so, a rich man? no; you smiled -- a rich woman. now we have got so far, you may as well give the name and earn the tenner.\" \"i\\'ll see you in hell first.\" \"oh, susan! language!\" \"i am clearing out of here. i\\'ve had enough of you all. i\\'ll send for my box to-morrow.\" she flounced for the door. \"good-bye, susan. paregoric is the stuff.... now,\" he continued, turning suddenly from lively to severe when the door had closed behind the flushed and angry woman, \"this gang means business. look how close they play the game. your letter to me had the 10 p.m. postmark. and yet susan passes the word to barney. barney has time to go to his employer and get instructions; he or she -- i incline to the latter from susan\\'s grin when she thought i had blundered -- forms a plan. black steve is called in, and i am warned off by eleven o\\'clock next morning. that\\'s quick work, you know.\" \"but what do they want?\" \"yes, that\\'s the question. who had the house before you?\" \"a retired sea captain called ferguson.\" \"anything remarkable about him?\" \"not that ever i heard of.\" \"i was wondering whether he could have buried something. of course, when people bury treasure nowadays they do it in the post-office bank. but there are always some lunatics about. it would be a dull world without them. at first i thought of some buried valuable. but why, in that case, should they want your furniture? you don\\'t happen to have a raphael or a first folio shakespeare without knowing it?\" \"no, i don\\'t think i have anything rarer than a crown derby tea-set.\" \"that would hardly justify all this mystery. besides, why should they not openly state what they want? if they covet your tea-set, they can surely offer a price for it without buying you out, lock, stock, and barrel. no, as i read it, there is something which you do not know that you have, and which you would not give up if you did know.\" \"that is how i read it,\" said i. \"dr. watson agrees, so that settles it.\" \"well, mr. holmes, what can it be?\" \"let us see whether by this purely mental analysis we can get it to a finer point. you have been in this house a year.\" \"nearly two.\" \"all the better. during this long period no one wants anything from you. now suddenly within three or four days you have urgent demands. what would you gather from that?\" \"it can only mean,\" said i, \"that the object, whatever it may be, has only just come into the house.\" \"settled once again,\" said holmes. \"now, mrs. maberley has any object just arrived?\" \"no, i have bought nothing new this year.\" \"indeed! that is very remarkable. well, i think we had best let matters develop a little further until we have clearer data. is that lawyer of yours a capable man?\" \"mr. sutro is most capable.\" \"have you another maid, or was the fair susan, who has just banged your front door alone?\" \"i have a young girl.\" \"try and get sutro to spend a night or two in the house. you might possibly want protection.\" \"against whom?\" \"who knows? the matter is certainly obscure. if i can\\'t find what they are after, i must approach the matter from the other end and try to get at the principal. did this house-agent man give any address?\" \"simply his card and occupation. haines-johnson, auctioneer and valuer.\" \"i don\\'t think we shall find him in the directory. honest business men don\\'t conceal their place of business. well, you will let me know any fresh development. i have taken up your case, and you may rely upon it that i shall see it through.\" as we passed through the hall holmes\\'s eyes, which missed nothing, lighted upon several trunks and cases which were piled in a corner. the labels shone out upon them. \" \\'milano.\\' \\'lucerne.\\' these are from italy.\" \"they are poor douglas\\'s things.\" \"you have not unpacked them? how long have you had them?\" \"they arrived last week.\" \"but you said -- why, surely this might be the missing link. how do we know that there is not something of value there?\" \"there could not possibly be, mr. holmes. poor douglas had only his pay and a small annuity. what could he have of value?\" holmes was lost in thought. \"delay no longer, mrs. maberley,\" he said at last. \"have these things taken upstairs to your bedroom. examine them as soon as possible and see what they cohtain. i will come to- morrow and hear your report.\" it was quite evident that the three gables was under very close surveillance, for as we came round the high hedge at the end of the lane there was the negro prize-fighter standing in the shadow. we came on him quite suddenly, and a grim and menacing figure he looked in that lonely place. holmes clapped his hand to his pocket. \"lookin\\' for your gun, masser holmes?\" \"no, for my scent-bottle, steve.\" \"you are funny, masser holmes, ain\\'t you?\" \"it won\\'t be funny for you, steve, if i get after you. i gave you fair warning this morning.\" \"well, masser holmes, i done gone think over what you said, and i don\\'t want no more talk about that affair of masser perkins. s\\'pose i can help you, masser holmes, i will.\" \"well, then, tell me who is behind you on this job.\" \"so help me the lord! masser holmes, i told you the truth before. i don\\'t know. my boss barney gives me orders and that\\'s all.\" \"well, just bear in mind, steve, that the lady in that house, and everything under that roof, is under my protection. don\\'t forget it.\" \"all right, masser holmes. i\\'ll remember.\" \"i\\'ve got him thoroughly frightened for his own skin, wat- son,\" holmes remarked as we walked on. \"i think he would double-cross his employer if he knew who he was. it was lucky i had some knowledge of the spencer john crowd, and that steve was one of them. now, watson, this is a case for langdale pike, and i am going to see him now. when i get back i may be clearer in the matter.\" i saw no more of holmes during the day, but i could well imagine how he spent it, for langdale pike was his human book of reference upon all matters of social scandal. this strange, languid creature spent his waking hours in the bow window of a st. james\\'s street club and was the receiving- station as well as the transmitter for all the gossip of the metropolis. he made, it was said, a four-figure income by the paragraphs which he contributed every week to the gar- bage papers which cater to an inquisitive public. if ever, far down in the turbid depths of london life, there was some strange swirl or eddy, it was marked with automatic exact- ness by this human dial upon the surface. holmes discreetly helped langdale to knowledge, and on occasion was helped in turn. when i met my friend in his room early next morning, i was conscious from his bearing that all was well, but none the less a most unpleasant surprise was awaiting us. it took the shape of the following telegram.  please come out at once. client\\'s house burgled in the night. police in possession. sutro. holmes whistled. \"the drama has come to a crisis, and quicker than i had expected. there is a great driving-power at the back of this business, watson, which does not surprise me after what i have heard. this sutro, of course, is her lawyer. i made a mistake, i fear, in not asking you to spend the night on guard. this fellow has clearly proved a broken reed. well, there is nothing for it but another journey to harrow weald.\" we found the three gables a very different establishment to the orderly household of the previous day. a small group of idlers had assembled at the garden gate, while a couple of constables were examining the windows and the geranium beds. within we met a gray old gentleman, who introduced himself as the lawyer together with a bustling, rubicund inspector, who greeted hoimes as an old friend. \"well, mr. holmes, no chance for you in this case, i\\'m afraid. just a common, ordinary burglary, and well within the capacity of the poor old police. no experts need apply.\" \"i am sure the case is in very good hands,\" said holmes. \"merely a common burglary, you say?\" \"quite so. we know pretty well who the men are and where to find them. it is that gang of barney stockdale, with the big nigger in it -- they\\'ve been seen about here.\" \"excellent! what did they get?\" \"well, they don\\'t seem to have got much. mrs. maberley was chloroformed and the house was -- ah! here is the lady herself.\" our friend of yesterday, looking very pale and ill, had entered the room, leaning upon a little maidservant. \"you gave me good advice, mr. holmes,\" said she, smiling ruefully. \"alas, i did not take it! i did not wish to trouble mr. sutro, and so i was unprotected.\" \"i only heard of it this morning,\" the lawyer explained. \"mr. holmes advised me to have some friend in the house. i neglected his advice, and i have paid for it.\" \"you look wretchedly ill,\" said holmes. \"perhaps you are hardly equal to telling me what occurred.\" \"it is all here,\" said the inspector, tapping a bulky notebook. \"still, if the lady is not too exhausted --\" \"there is really so little to tell. i have no doubt that wicked susan had planned an entrance for them. they must have known the house to an inch. i was conscious for a moment of the chloroform rag which was thrust over my mouth, but i have no notion how long i may have been senseless. when i woke, one man was at the bedside and another was rising with a bundle in his hand from among my son\\'s baggage, which was partially opened and littered over the floor. before he could get away i sprang up and seized him.\" \"you took a big risk,\" said the inspector. \"i clung to him, but he shook me off, and the other may have struck me, for i can remember no more. mary the maid heard the noise and began screaming out of the window. that brought the police, but the rascals had got away.\" \"what did they take?\" \"well, i don\\'t think there is anything of value missing. i am sure there was nothing in my son\\'s trunks.\" \"did the men leave no clue?\" \"there was one sheet of paper which i may have torn from the man that i grasped. it was lying all crumpled on the floor. it is in my son\\'s handwriting.\" \"which means that it is not of much use,\" said the inspector. \"now if it had been in the burglar\\'s --\" \"exactly,\" said holmes. \"what rugged common sense! none the less, i should be curious to see it.\" the inspector drew a folded sheet of foolscap from his pocketbook. \"i never pass anything, however trifling,\" said he with some pomposity. \"that is my advice to you, mr. holmes. in twenty- five years\\' experience i have learned my lesson. there is always the chance of finger-marks or something.\" holmes inspected the sheet of paper. \"what do you make of it, inspector?\" \"seems to be the end of some queer novel, so far as i can see.\" \"it may certainly prove to be the end of a queer tale,\" said holmes. \"you have noticed the number on the top of the page. it is two hundred and forty-five. where are the odd two hundred and forty-four pages?\" \"well, i suppose the burglars got those. much good may it do them!\" \"it seems a queer thing to break into a house in order to steal such papers as that. does it suggest anything to you, inspector?\" \"yes, sir, it suggests that in their hurry the rascals just grabbed at what came first to hand. i wish them joy of what they got.\" \"why should they go to my son\\'s things?\" asked mrs. maberley. \"well, they found nothing valuable downstairs, so they tried their luck upstairs. that is how i read it. what do you make of it, mr. holmes?\" \"i must think it over, inspector. come to the window, wat- son.\" then, as we stood together, he read over the fragment of paper. it began in the middle of a sentence and ran like this:  \". . . face bled considerably from the cuts and blows, but it was nothing to the bleeding of his heart as he saw that lovely face, the face for which he had been prepared to sacrifice his very life, looking out at his agony and humilia- tion. she smiled -- yes, by heaven! she smiled, like the heartless fiend she was, as he looked up at her. it was at that moment that love died and hate was born. man must live for something. if it is not for your embrace, my lady, then it shall surely be for your undoing and my complete revenge.\"  \"queer grammar!\" said holmes with a smile as he handed the paper back to the inspector. \"did you notice how the \\'he\\' suddenly changed to \\'my\\'? the writer was so carried away by his own story that he imagined himself at the supreme moment to be the hero.\" \"it seemed mighty poor stuff,\" said the inspector as he re- placed it in his book. \"what! are you off, mr. holmes?\" \"i don\\'t think there is anything more for me to do now that the case is in such capable hands. by the way, mrs. maberley, did you say you wished to travel?\" \"it has always been my dream, mr. holmes.\" \"where would you like to go -- cairo, madeira, the riviera?\" \"oh if i had the money i would go round the world.\" \"quite so. round the world. well, good-morning. i may drop you a line in the evening.\" as we passed the window i caught a glimpse of the inspector\\'s smile and shake of the head. \"these clever fellows have always a touch of madness.\" that was what i read in the inspector\\'s smile. \"now, watson, we are at the last lap of our little journey,\" said holmes when we were back in the roar of central london once more. \"i think we had best clear the matter up at once, and it would be well that you should come with me, for it is safer to have a witness when you are dealing with such a lady as isadora klein.\" we had taken a cab and were speeding to some address in grosvenor square. holmes had been sunk in thought, but he roused himself suddenly. \"by the way, watson, i suppose you see it all clearly?\" \"no, i can\\'t say that i do. i only gather that we are going to see the lady who is behind all this mischief.\" \"exactly! but does the name isadora klein convey nothing to you? she was, of course, the celebrated beauty. there was never a woman to touch her. she is pure spanish, the real blood of the masterfui conquistadors, and her people have been leaders in pernambuco for generations. she married the aged german sugar king, klein, and presently found herself the richest as well as the most lovely widow upon earth. then there was an interval of adventure when she pleased her own tastes. she had several lovers, and douglas maberley, one of the most striking men in london, was one of them. it was by all accounts more than an adventure with him. he was not a society butterfly but a strong, proud man who gave and expected all. but she is the \\'belle dame sans merci\\' of fiction. when her caprice is satisfied the matter is ended, and if the other party in the matter can\\'t take her word for it she knows how to bring it home to him.\" \"then that was his own story --\" \"ah! you are piecing it together now. i hear that she is about to marry the young duke of lomond, who might almost be her son. his grace\\'s ma might overlook the age, but a big scandal would be a different matter, so it is imperative -- ah! here we are.\" it was one of the finest corner-houses of the west end. a machine-like footman took up our cards and returned with word that the lady was not at home. \"then we shall wait until she is,\" said holmes cheerfully. the machine broke down. \"not at home means not at home to you,\" said the footman. \"good,\" holmes answered. \"that means that we shall not have to wait. kindly give this note to your mistress.\" he scribbled three or four words upon a sheet of his notebook, folded it, and handed it to the man. \"what did you say, holmes?\" i asked. \"i simply wrote: \\'shall it be the police, then?\\' i think that should pass us in.\" it did -- with amazing celerity. a minute later we were in an arabian nights drawing-room, vast and wonderful, in a half gloom, picked out with an occasional pink electric light. the lady had come, i felt, to that time of life when even the proudest beauty finds the half light more welcome. she rose from a settee as we entered: tall, queenly, a perfect figure, a lovely mask-like face, with two wonderful spanish eyes which looked murder at us both. \"what is this intrusion -- and this insulting message?\" she asked, holding up the slip of paper. \"i need not explain, madame. i have too much respect for your intelligence to do so -- though i confess that intelligence has been surprisingly at fault of late.\" \"how so, sir?\" \"by supposing that your hired bullies could frighten me from my work. surely no man would take up my profession if it were not that danger attracts him. it was you, then, who forced me to examine the case of young maberley.\" \"i have no idea what you are talking about. what have i to do with hired bullies?\" holmes turned away wearily. \"yes, i have underrated your intelligence. well, good-after- noon!\" \"stop! where are you going?\" \"to scotland yard.\" we had not got halfway to the door before she had overtaken us and was holding his arm. she had turned in a moment from steel to velvet. \"come and sit down, gentlemen. let us talk this matter over. i feel that i may be frank with you, mr. holmes. you have the feelings of a gentleman. how quick a woman\\'s instinct is to find it out. i will treat you as a friend.\" \"i cannot promise to reciprocate, madame. i am not the law, but i represent justice so far as my feeble powers go. i am ready to listen, and then i will tell you how i will act.\" \"no doubt it was foolish of me to threaten a brave man like yourself.\" \"what was really foolish, madame, is that you have placed yourself in the power of a band of rascals who may blackmail or give you away.\" \"no, no! i am not so simple. since i have promised to be frank, i may say that no one, save barney stockdale and susan, his wife, have the least idea who their employer is. as to them, well, it is not the first --\" she smiled and nodded with a charming coquettish intimacy. \"l see. you\\'ve tested them before.\" \"they are good hounds who run silent.\" \"such hounds have a way sooner or later of biting the hand that feeds them. they will be arrested for this burglary. the police are already after them.\" \"they will take what comes to them. that is what they are paid for. i shall not appear in the matter.\" \"unless i bring you into it.\" \"no, no, you would not. you are a gentleman. it is a wom- an\\'s secret.\" \"in the first place, you must give back this manuscript.\" she broke into a ripple of laughter and walked to the fireplace. there was a calcined mass which she broke up with the poker. \"shall i give this back?\" she asked. so roguish and exquisite did she look as she stood before us with a challenging smile that i felt of all holmes\\'s criminals this was the one whom he would find it hardest to face. however, he was immune from sentiment. \"that seals your fate,\" he said coldly. \"you are very prompt in your actions, madame, but you have overdone it on this occasion.\" she threw the poker down with a clatter. \"how hard you are!\" she cried. \"may i tell you the whole story?\" \"i fancy i could tell it to you.\" \"but you must look at it with my eyes, mr. holmes. you must realize it from the point of view of a woman who sees all her life\\'s ambition about to be ruined at the last moment. is such a woman to be blamed if she protects herself?\" \"the original sin was yours.\" \"yes, yes! i admit it. he was a dear boy, douglas, but it so chanced that he could not fit into my plans. he wanted marriage -- marriage, mr. holmes -- with a penniless commoner. nothing less would serve him. then he became pertinacious. because i had given he seemed to think that i still must give, and to him only. it was intolerable. at last i had to make him realize it.\" \"by hiring ruffians to beat him under your own window.\" \"you do indeed seem to know everything. well, it is true. barney and the boys drove him away, and were, i admit, a little rough in doing so. but what did he do then? could i have believed that a gentleman would do such an act? he wrote a book in which he described his own story. i, of course, was the wolf; he the lamb. it was all there, under different names, of course; but who in all london would have failed to recognize it? what do you say to that, mr. holmes?\" \"well, he was within his rights.\" \"it was as if the air of italy had got into his blood and brought with it the old cruel italian spirit. he wrote to me and sent me a copy of his book that i might have the torture of anticipation. there were two copies, he said -- one for me, one for his publisher.\" \"how did you know the publisher\\'s had not reached him?\" \"i knew who his publisher was. it is not his only novel, you know. i found out that he had not heard from italy. then came douglas\\'s sudden death. so long as that other manuscript was in the world there was no safety for me. of course, it must be among his effects, and these would be returned to his mother. i set the gang at work. one of them got into the house as servant. i wanted to do the thing honestly. i really and truly did. i was ready to buy the house and everything in it. i offered any price she cared to ask. i only tried the other way when everything else had failed. now, mr. holmes, granting that i was too hard on douglas -- and, god knows, i am sorry for it! -- what else could i do with my whole future at stake?\" sherlock holmes shrugged his shoulders. \"well, well,\" said he, \"i suppose i shall have to compound a felony as usual. how much does it cost to go round the world in first-class style?\" the lady stared in amazement. \"could it be done on five thousand pounds?\" \"well, i should think so, indeed!\" \"very good. i think you will sign me a check for that, and i will see that it comes to mrs. maberley. you owe her a little change of air. meantime, lady\" -- he wagged a cautionary forefinger -- \"have a care! have a care! you can\\'t play with edged tools forever without cutting those dainty hands.\" '"
      ]
     },
     "execution_count": 258,
     "metadata": {},
     "output_type": "execute_result"
    }
   ],
   "source": [
    "#remove the end of file character\n",
    "data=data[:-2]\n",
    "data"
   ]
  },
  {
   "cell_type": "markdown",
   "metadata": {},
   "source": [
    "### 1.2 Pre-processing\n",
    "    -Remove all things except alphabets"
   ]
  },
  {
   "cell_type": "code",
   "execution_count": 273,
   "metadata": {},
   "outputs": [],
   "source": [
    "words= re.findall(\"[a-z]+\", data)\n",
    "counts={}\n",
    "for w in words:\n",
    "    counts[w]= counts.get(w,0) + 1\n",
    "d=list(counts.items())\n",
    "df=pd.DataFrame(d, columns=['word','count'])"
   ]
  },
  {
   "cell_type": "code",
   "execution_count": 260,
   "metadata": {},
   "outputs": [
    {
     "data": {
      "text/html": [
       "<div>\n",
       "<style scoped>\n",
       "    .dataframe tbody tr th:only-of-type {\n",
       "        vertical-align: middle;\n",
       "    }\n",
       "\n",
       "    .dataframe tbody tr th {\n",
       "        vertical-align: top;\n",
       "    }\n",
       "\n",
       "    .dataframe thead th {\n",
       "        text-align: right;\n",
       "    }\n",
       "</style>\n",
       "<table border=\"1\" class=\"dataframe\">\n",
       "  <thead>\n",
       "    <tr style=\"text-align: right;\">\n",
       "      <th></th>\n",
       "      <th>word</th>\n",
       "      <th>count</th>\n",
       "    </tr>\n",
       "  </thead>\n",
       "  <tbody>\n",
       "    <tr>\n",
       "      <th>0</th>\n",
       "      <td>earth</td>\n",
       "      <td>2</td>\n",
       "    </tr>\n",
       "    <tr>\n",
       "      <th>1</th>\n",
       "      <td>s</td>\n",
       "      <td>41</td>\n",
       "    </tr>\n",
       "    <tr>\n",
       "      <th>2</th>\n",
       "      <td>dreamlands</td>\n",
       "      <td>1</td>\n",
       "    </tr>\n",
       "    <tr>\n",
       "      <th>3</th>\n",
       "      <td>a</td>\n",
       "      <td>147</td>\n",
       "    </tr>\n",
       "    <tr>\n",
       "      <th>4</th>\n",
       "      <td>bbs</td>\n",
       "      <td>1</td>\n",
       "    </tr>\n",
       "    <tr>\n",
       "      <th>5</th>\n",
       "      <td>for</td>\n",
       "      <td>49</td>\n",
       "    </tr>\n",
       "  </tbody>\n",
       "</table>\n",
       "</div>"
      ],
      "text/plain": [
       "         word  count\n",
       "0       earth      2\n",
       "1           s     41\n",
       "2  dreamlands      1\n",
       "3           a    147\n",
       "4         bbs      1\n",
       "5         for     49"
      ]
     },
     "execution_count": 260,
     "metadata": {},
     "output_type": "execute_result"
    }
   ],
   "source": [
    "# first 5 words\n",
    "df.loc[:5] #df.head(5)"
   ]
  },
  {
   "cell_type": "code",
   "execution_count": 261,
   "metadata": {},
   "outputs": [
    {
     "data": {
      "text/html": [
       "<div>\n",
       "<style scoped>\n",
       "    .dataframe tbody tr th:only-of-type {\n",
       "        vertical-align: middle;\n",
       "    }\n",
       "\n",
       "    .dataframe tbody tr th {\n",
       "        vertical-align: top;\n",
       "    }\n",
       "\n",
       "    .dataframe thead th {\n",
       "        text-align: right;\n",
       "    }\n",
       "</style>\n",
       "<table border=\"1\" class=\"dataframe\">\n",
       "  <thead>\n",
       "    <tr style=\"text-align: right;\">\n",
       "      <th></th>\n",
       "      <th>word</th>\n",
       "      <th>count</th>\n",
       "    </tr>\n",
       "  </thead>\n",
       "  <tbody>\n",
       "    <tr>\n",
       "      <th>1428</th>\n",
       "      <td>edged</td>\n",
       "      <td>1</td>\n",
       "    </tr>\n",
       "    <tr>\n",
       "      <th>1429</th>\n",
       "      <td>tools</td>\n",
       "      <td>1</td>\n",
       "    </tr>\n",
       "    <tr>\n",
       "      <th>1430</th>\n",
       "      <td>forever</td>\n",
       "      <td>1</td>\n",
       "    </tr>\n",
       "    <tr>\n",
       "      <th>1431</th>\n",
       "      <td>cutting</td>\n",
       "      <td>1</td>\n",
       "    </tr>\n",
       "    <tr>\n",
       "      <th>1432</th>\n",
       "      <td>dainty</td>\n",
       "      <td>1</td>\n",
       "    </tr>\n",
       "  </tbody>\n",
       "</table>\n",
       "</div>"
      ],
      "text/plain": [
       "         word  count\n",
       "1428    edged      1\n",
       "1429    tools      1\n",
       "1430  forever      1\n",
       "1431  cutting      1\n",
       "1432   dainty      1"
      ]
     },
     "execution_count": 261,
     "metadata": {},
     "output_type": "execute_result"
    }
   ],
   "source": [
    "# last 5 words\n",
    "df.iloc[-5:] #df.tail(5)"
   ]
  },
  {
   "cell_type": "markdown",
   "metadata": {},
   "source": [
    " Above code splitted words like \"Earth's\" into 2 words- \"Earth\" & \"s\".\n",
    " \n",
    " To avoid such things, let's do some step-by-step preprocessing where we remove all the numbers and all the punctuations."
   ]
  },
  {
   "cell_type": "code",
   "execution_count": 289,
   "metadata": {},
   "outputs": [
    {
     "data": {
      "text/plain": [
       "6096"
      ]
     },
     "execution_count": 289,
     "metadata": {},
     "output_type": "execute_result"
    }
   ],
   "source": [
    "# remove numbers\n",
    "text= re.sub(r'\\d+', '', data)\n",
    "# remove punctuations\n",
    "text=text.translate(text.maketrans(\"\",\"\", string.punctuation))\n",
    "#total no. of words\n",
    "len(text.split())"
   ]
  },
  {
   "cell_type": "markdown",
   "metadata": {},
   "source": [
    "### 1.3 Count the words"
   ]
  },
  {
   "cell_type": "code",
   "execution_count": 277,
   "metadata": {},
   "outputs": [],
   "source": [
    "# let's count all these words\n",
    "counts={}\n",
    "for w in text.split():\n",
    "    counts[w]= counts.get(w,0) + 1\n",
    "d=list(counts.items())"
   ]
  },
  {
   "cell_type": "markdown",
   "metadata": {},
   "source": [
    "## 2. Print top 5 and bottom 5 words"
   ]
  },
  {
   "cell_type": "code",
   "execution_count": 278,
   "metadata": {},
   "outputs": [
    {
     "name": "stdout",
     "output_type": "stream",
     "text": [
      "Top 5: [('earths', 1), ('dreamlands', 1), ('a', 145), ('bbs', 1), ('for', 49)]\n",
      "Bottom 5: [('edged', 1), ('tools', 1), ('forever', 1), ('cutting', 1), ('dainty', 1)]\n",
      "5 most frequent: [(264, 'the'), (198, 'i'), (145, 'a'), (143, 'you'), (141, 'to')]\n",
      "5 least frequent: [(1, 'across'), (1, 'acre'), (1, 'accounts'), (1, 'abruptly'), (1, 'above')]\n"
     ]
    }
   ],
   "source": [
    "# get top 5 and bottom 5 words\n",
    "print(\"Top 5: \" + str(d[:5]))\n",
    "print(\"Bottom 5: \" + str(d[-5:]))\n",
    "\n",
    "# get 5 most frequent words and 5 least frequent words\n",
    "a=sorted( [ (v,k) for k,v in counts.items() ], reverse= True )\n",
    "print(\"5 most frequent: \" + str(a[:5]))\n",
    "print(\"5 least frequent: \" + str(a[-5:]))"
   ]
  },
  {
   "cell_type": "markdown",
   "metadata": {},
   "source": [
    "## 3. Create dataframe"
   ]
  },
  {
   "cell_type": "code",
   "execution_count": 283,
   "metadata": {},
   "outputs": [
    {
     "name": "stdout",
     "output_type": "stream",
     "text": [
      "<class 'pandas.core.frame.DataFrame'>\n",
      "RangeIndex: 1451 entries, 0 to 1450\n",
      "Data columns (total 2 columns):\n",
      "word         1451 non-null object\n",
      "frequency    1451 non-null int64\n",
      "dtypes: int64(1), object(1)\n",
      "memory usage: 22.8+ KB\n",
      "None\n"
     ]
    },
    {
     "data": {
      "text/html": [
       "<div>\n",
       "<style scoped>\n",
       "    .dataframe tbody tr th:only-of-type {\n",
       "        vertical-align: middle;\n",
       "    }\n",
       "\n",
       "    .dataframe tbody tr th {\n",
       "        vertical-align: top;\n",
       "    }\n",
       "\n",
       "    .dataframe thead th {\n",
       "        text-align: right;\n",
       "    }\n",
       "</style>\n",
       "<table border=\"1\" class=\"dataframe\">\n",
       "  <thead>\n",
       "    <tr style=\"text-align: right;\">\n",
       "      <th></th>\n",
       "      <th>word</th>\n",
       "      <th>frequency</th>\n",
       "    </tr>\n",
       "  </thead>\n",
       "  <tbody>\n",
       "    <tr>\n",
       "      <th>0</th>\n",
       "      <td>earths</td>\n",
       "      <td>1</td>\n",
       "    </tr>\n",
       "    <tr>\n",
       "      <th>1</th>\n",
       "      <td>dreamlands</td>\n",
       "      <td>1</td>\n",
       "    </tr>\n",
       "    <tr>\n",
       "      <th>2</th>\n",
       "      <td>a</td>\n",
       "      <td>145</td>\n",
       "    </tr>\n",
       "    <tr>\n",
       "      <th>3</th>\n",
       "      <td>bbs</td>\n",
       "      <td>1</td>\n",
       "    </tr>\n",
       "    <tr>\n",
       "      <th>4</th>\n",
       "      <td>for</td>\n",
       "      <td>49</td>\n",
       "    </tr>\n",
       "  </tbody>\n",
       "</table>\n",
       "</div>"
      ],
      "text/plain": [
       "         word  frequency\n",
       "0      earths          1\n",
       "1  dreamlands          1\n",
       "2           a        145\n",
       "3         bbs          1\n",
       "4         for         49"
      ]
     },
     "execution_count": 283,
     "metadata": {},
     "output_type": "execute_result"
    }
   ],
   "source": [
    "# create dataframe\n",
    "df=pd.DataFrame(d, columns=['word','frequency'])\n",
    "print(df.info())\n",
    "df.head()"
   ]
  },
  {
   "cell_type": "markdown",
   "metadata": {},
   "source": [
    "## 4. Remove words with count less than 5"
   ]
  },
  {
   "cell_type": "code",
   "execution_count": 284,
   "metadata": {},
   "outputs": [
    {
     "name": "stdout",
     "output_type": "stream",
     "text": [
      "<class 'pandas.core.frame.DataFrame'>\n",
      "Int64Index: 204 entries, 2 to 1070\n",
      "Data columns (total 2 columns):\n",
      "word         204 non-null object\n",
      "frequency    204 non-null int64\n",
      "dtypes: int64(1), object(1)\n",
      "memory usage: 4.8+ KB\n",
      "None\n"
     ]
    },
    {
     "data": {
      "text/html": [
       "<div>\n",
       "<style scoped>\n",
       "    .dataframe tbody tr th:only-of-type {\n",
       "        vertical-align: middle;\n",
       "    }\n",
       "\n",
       "    .dataframe tbody tr th {\n",
       "        vertical-align: top;\n",
       "    }\n",
       "\n",
       "    .dataframe thead th {\n",
       "        text-align: right;\n",
       "    }\n",
       "</style>\n",
       "<table border=\"1\" class=\"dataframe\">\n",
       "  <thead>\n",
       "    <tr style=\"text-align: right;\">\n",
       "      <th></th>\n",
       "      <th>word</th>\n",
       "      <th>frequency</th>\n",
       "    </tr>\n",
       "  </thead>\n",
       "  <tbody>\n",
       "    <tr>\n",
       "      <th>2</th>\n",
       "      <td>a</td>\n",
       "      <td>145</td>\n",
       "    </tr>\n",
       "    <tr>\n",
       "      <th>4</th>\n",
       "      <td>for</td>\n",
       "      <td>49</td>\n",
       "    </tr>\n",
       "    <tr>\n",
       "      <th>12</th>\n",
       "      <td>the</td>\n",
       "      <td>264</td>\n",
       "    </tr>\n",
       "    <tr>\n",
       "      <th>14</th>\n",
       "      <td>of</td>\n",
       "      <td>128</td>\n",
       "    </tr>\n",
       "    <tr>\n",
       "      <th>15</th>\n",
       "      <td>three</td>\n",
       "      <td>9</td>\n",
       "    </tr>\n",
       "  </tbody>\n",
       "</table>\n",
       "</div>"
      ],
      "text/plain": [
       "     word  frequency\n",
       "2       a        145\n",
       "4     for         49\n",
       "12    the        264\n",
       "14     of        128\n",
       "15  three          9"
      ]
     },
     "execution_count": 284,
     "metadata": {},
     "output_type": "execute_result"
    }
   ],
   "source": [
    "df1= df[df['frequency']>4]\n",
    "print(df1.info())\n",
    "df1.head()"
   ]
  },
  {
   "cell_type": "code",
   "execution_count": 266,
   "metadata": {},
   "outputs": [
    {
     "data": {
      "text/html": [
       "<div>\n",
       "<style scoped>\n",
       "    .dataframe tbody tr th:only-of-type {\n",
       "        vertical-align: middle;\n",
       "    }\n",
       "\n",
       "    .dataframe tbody tr th {\n",
       "        vertical-align: top;\n",
       "    }\n",
       "\n",
       "    .dataframe thead th {\n",
       "        text-align: right;\n",
       "    }\n",
       "</style>\n",
       "<table border=\"1\" class=\"dataframe\">\n",
       "  <thead>\n",
       "    <tr style=\"text-align: right;\">\n",
       "      <th></th>\n",
       "      <th>word</th>\n",
       "      <th>frequency</th>\n",
       "    </tr>\n",
       "  </thead>\n",
       "  <tbody>\n",
       "    <tr>\n",
       "      <th>0</th>\n",
       "      <td>a</td>\n",
       "      <td>145</td>\n",
       "    </tr>\n",
       "    <tr>\n",
       "      <th>1</th>\n",
       "      <td>for</td>\n",
       "      <td>49</td>\n",
       "    </tr>\n",
       "    <tr>\n",
       "      <th>2</th>\n",
       "      <td>the</td>\n",
       "      <td>264</td>\n",
       "    </tr>\n",
       "    <tr>\n",
       "      <th>3</th>\n",
       "      <td>of</td>\n",
       "      <td>128</td>\n",
       "    </tr>\n",
       "    <tr>\n",
       "      <th>4</th>\n",
       "      <td>three</td>\n",
       "      <td>9</td>\n",
       "    </tr>\n",
       "  </tbody>\n",
       "</table>\n",
       "</div>"
      ],
      "text/plain": [
       "    word  frequency\n",
       "0      a        145\n",
       "1    for         49\n",
       "2    the        264\n",
       "3     of        128\n",
       "4  three          9"
      ]
     },
     "execution_count": 266,
     "metadata": {},
     "output_type": "execute_result"
    }
   ],
   "source": [
    "# reset indices\n",
    "df1= df1.reset_index()\n",
    "df1= df1.drop('index',axis=1)\n",
    "df1.head()"
   ]
  },
  {
   "cell_type": "markdown",
   "metadata": {},
   "source": [
    "## 5. Apply given condition\n",
    "Condition:- if word length>5 and word frequency>10"
   ]
  },
  {
   "cell_type": "code",
   "execution_count": 271,
   "metadata": {},
   "outputs": [
    {
     "data": {
      "text/html": [
       "<div>\n",
       "<style scoped>\n",
       "    .dataframe tbody tr th:only-of-type {\n",
       "        vertical-align: middle;\n",
       "    }\n",
       "\n",
       "    .dataframe tbody tr th {\n",
       "        vertical-align: top;\n",
       "    }\n",
       "\n",
       "    .dataframe thead th {\n",
       "        text-align: right;\n",
       "    }\n",
       "</style>\n",
       "<table border=\"1\" class=\"dataframe\">\n",
       "  <thead>\n",
       "    <tr style=\"text-align: right;\">\n",
       "      <th></th>\n",
       "      <th>word</th>\n",
       "      <th>frequency</th>\n",
       "      <th>condition</th>\n",
       "    </tr>\n",
       "  </thead>\n",
       "  <tbody>\n",
       "    <tr>\n",
       "      <th>0</th>\n",
       "      <td>a</td>\n",
       "      <td>145</td>\n",
       "      <td>False</td>\n",
       "    </tr>\n",
       "    <tr>\n",
       "      <th>1</th>\n",
       "      <td>for</td>\n",
       "      <td>49</td>\n",
       "      <td>False</td>\n",
       "    </tr>\n",
       "    <tr>\n",
       "      <th>2</th>\n",
       "      <td>the</td>\n",
       "      <td>264</td>\n",
       "      <td>False</td>\n",
       "    </tr>\n",
       "    <tr>\n",
       "      <th>3</th>\n",
       "      <td>of</td>\n",
       "      <td>128</td>\n",
       "      <td>False</td>\n",
       "    </tr>\n",
       "    <tr>\n",
       "      <th>4</th>\n",
       "      <td>three</td>\n",
       "      <td>9</td>\n",
       "      <td>False</td>\n",
       "    </tr>\n",
       "  </tbody>\n",
       "</table>\n",
       "</div>"
      ],
      "text/plain": [
       "    word  frequency  condition\n",
       "0      a        145      False\n",
       "1    for         49      False\n",
       "2    the        264      False\n",
       "3     of        128      False\n",
       "4  three          9      False"
      ]
     },
     "execution_count": 271,
     "metadata": {},
     "output_type": "execute_result"
    }
   ],
   "source": [
    "df1['condition']=False\n",
    "for i in range(df1.shape[0]):\n",
    "    if len(df1.word[i])>5 and df1.frequency[i]>10:\n",
    "        df1.loc[i,'condition']=True\n",
    "df1.head()"
   ]
  },
  {
   "cell_type": "code",
   "execution_count": 272,
   "metadata": {},
   "outputs": [
    {
     "data": {
      "text/html": [
       "<div>\n",
       "<style scoped>\n",
       "    .dataframe tbody tr th:only-of-type {\n",
       "        vertical-align: middle;\n",
       "    }\n",
       "\n",
       "    .dataframe tbody tr th {\n",
       "        vertical-align: top;\n",
       "    }\n",
       "\n",
       "    .dataframe thead th {\n",
       "        text-align: right;\n",
       "    }\n",
       "</style>\n",
       "<table border=\"1\" class=\"dataframe\">\n",
       "  <thead>\n",
       "    <tr style=\"text-align: right;\">\n",
       "      <th></th>\n",
       "      <th>word</th>\n",
       "      <th>frequency</th>\n",
       "      <th>condition</th>\n",
       "    </tr>\n",
       "  </thead>\n",
       "  <tbody>\n",
       "    <tr>\n",
       "      <th>14</th>\n",
       "      <td>holmes</td>\n",
       "      <td>70</td>\n",
       "      <td>True</td>\n",
       "    </tr>\n",
       "    <tr>\n",
       "      <th>60</th>\n",
       "      <td>masser</td>\n",
       "      <td>17</td>\n",
       "      <td>True</td>\n",
       "    </tr>\n",
       "    <tr>\n",
       "      <th>134</th>\n",
       "      <td>matter</td>\n",
       "      <td>12</td>\n",
       "      <td>True</td>\n",
       "    </tr>\n",
       "    <tr>\n",
       "      <th>151</th>\n",
       "      <td>maberley</td>\n",
       "      <td>12</td>\n",
       "      <td>True</td>\n",
       "    </tr>\n",
       "    <tr>\n",
       "      <th>181</th>\n",
       "      <td>nothing</td>\n",
       "      <td>11</td>\n",
       "      <td>True</td>\n",
       "    </tr>\n",
       "  </tbody>\n",
       "</table>\n",
       "</div>"
      ],
      "text/plain": [
       "         word  frequency  condition\n",
       "14     holmes         70       True\n",
       "60     masser         17       True\n",
       "134    matter         12       True\n",
       "151  maberley         12       True\n",
       "181   nothing         11       True"
      ]
     },
     "execution_count": 272,
     "metadata": {},
     "output_type": "execute_result"
    }
   ],
   "source": [
    "# All words satisfying the given condition\n",
    "df1[df1.condition]"
   ]
  },
  {
   "cell_type": "markdown",
   "metadata": {},
   "source": [
    "## Summary:\n",
    "1. Total number of words in the document- 6096\n",
    "2. Total number of distinct words- 1451\n",
    "3. Total number of words with frequency >= 5 is- 204\n",
    "4. Total number of words with frequency > 10 and length > 5 is- 5\n",
    "\n",
    "Improvement scope:\n",
    "We can do:\n",
    "1. ***Stop words removal*** on our text corpus to remove less important words like 'a', 'the', 'on' etc.\n",
    "2. ***Stemming and Lemmatization*** to treat words like look & looked same and different forms of a word like be & been same for the purpose of counting\n",
    "For this we can use NLTK library.\n",
    "\n",
    "##   Thank You !"
   ]
  }
 ],
 "metadata": {
  "kernelspec": {
   "display_name": "Python 3",
   "language": "python",
   "name": "python3"
  },
  "language_info": {
   "codemirror_mode": {
    "name": "ipython",
    "version": 3
   },
   "file_extension": ".py",
   "mimetype": "text/x-python",
   "name": "python",
   "nbconvert_exporter": "python",
   "pygments_lexer": "ipython3",
   "version": "3.7.0"
  }
 },
 "nbformat": 4,
 "nbformat_minor": 2
}
